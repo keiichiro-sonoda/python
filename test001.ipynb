{
 "cells": [
  {
   "cell_type": "code",
   "execution_count": 1,
   "metadata": {},
   "outputs": [],
   "source": [
    "%matplotlib inline"
   ]
  },
  {
   "cell_type": "markdown",
   "metadata": {},
   "source": [
    "# リストのインデックスを返す関数find_indexの定義"
   ]
  },
  {
   "cell_type": "code",
   "execution_count": 2,
   "metadata": {},
   "outputs": [],
   "source": [
    "def find_index(the_list, target):\n",
    "    idx = 0\n",
    "    for item in the_list:\n",
    "        if target == item:\n",
    "            return idx\n",
    "        idx = idx + 1"
   ]
  },
  {
   "cell_type": "code",
   "execution_count": 3,
   "metadata": {},
   "outputs": [
    {
     "data": {
      "text/plain": [
       "2"
      ]
     },
     "execution_count": 3,
     "metadata": {},
     "output_type": "execute_result"
    }
   ],
   "source": [
    "mcz = [\"れに\", \"かなこ\", \"しおり\", \"あやか\", \"ももか\", \"しおり\", \"しおり\", \"しおり\"]\n",
    "find_index(mcz, \"しおり\")"
   ]
  },
  {
   "cell_type": "markdown",
   "metadata": {},
   "source": [
    "# index()メソッドを使った例"
   ]
  },
  {
   "cell_type": "code",
   "execution_count": 4,
   "metadata": {},
   "outputs": [
    {
     "data": {
      "text/plain": [
       "2"
      ]
     },
     "execution_count": 4,
     "metadata": {},
     "output_type": "execute_result"
    }
   ],
   "source": [
    "mcz.index(\"しおり\")"
   ]
  },
  {
   "cell_type": "code",
   "execution_count": 5,
   "metadata": {},
   "outputs": [
    {
     "data": {
      "text/plain": [
       "4"
      ]
     },
     "execution_count": 5,
     "metadata": {},
     "output_type": "execute_result"
    }
   ],
   "source": [
    "mcz.count(\"しおり\")"
   ]
  },
  {
   "cell_type": "code",
   "execution_count": 6,
   "metadata": {},
   "outputs": [
    {
     "name": "stdout",
     "output_type": "stream",
     "text": [
      "['あやか', 'かなこ', 'しおり', 'しおり', 'しおり', 'しおり', 'ももか', 'れに']\n"
     ]
    }
   ],
   "source": [
    "mcz.sort()\n",
    "print(mcz)"
   ]
  },
  {
   "cell_type": "code",
   "execution_count": 7,
   "metadata": {},
   "outputs": [
    {
     "name": "stdout",
     "output_type": "stream",
     "text": [
      "[b'\\xe3\\x81\\x82\\xe3\\x82\\x84\\xe3\\x81\\x8b', b'\\xe3\\x81\\x8b\\xe3\\x81\\xaa\\xe3\\x81\\x93', b'\\xe3\\x81\\x97\\xe3\\x81\\x8a\\xe3\\x82\\x8a', b'\\xe3\\x81\\x97\\xe3\\x81\\x8a\\xe3\\x82\\x8a', b'\\xe3\\x81\\x97\\xe3\\x81\\x8a\\xe3\\x82\\x8a', b'\\xe3\\x81\\x97\\xe3\\x81\\x8a\\xe3\\x82\\x8a', b'\\xe3\\x82\\x82\\xe3\\x82\\x82\\xe3\\x81\\x8b', b'\\xe3\\x82\\x8c\\xe3\\x81\\xab']\n"
     ]
    }
   ],
   "source": [
    "mcz_byte = [i.encode() for i in mcz]\n",
    "print(mcz_byte)"
   ]
  },
  {
   "cell_type": "code",
   "execution_count": 8,
   "metadata": {},
   "outputs": [
    {
     "name": "stdout",
     "output_type": "stream",
     "text": [
      "Spam Ham Spam Spam\n"
     ]
    }
   ],
   "source": [
    "test_str = \"{0} {1} {0} {0}\".format(\"Spam\", \"Ham\")\n",
    "print(test_str)"
   ]
  },
  {
   "cell_type": "code",
   "execution_count": 9,
   "metadata": {},
   "outputs": [
    {
     "data": {
      "text/plain": [
       "'Spam Ham yroiea hf'"
      ]
     },
     "execution_count": 9,
     "metadata": {},
     "output_type": "execute_result"
    }
   ],
   "source": [
    "\"{food1} {food2} {food628934} {a3}\".format(food1=\"Spam\", food2=\"Ham\", food628934=\"yroiea\", a3=\"hf\")"
   ]
  },
  {
   "cell_type": "code",
   "execution_count": 10,
   "metadata": {},
   "outputs": [
    {
     "data": {
      "text/plain": [
       "'Python version: 3.8.5 (default, Sep  4 2020, 07:30:14) \\n[GCC 7.3.0]'"
      ]
     },
     "execution_count": 10,
     "metadata": {},
     "output_type": "execute_result"
    }
   ],
   "source": [
    "import sys\n",
    "\"Python version: {0.version}\".format(sys)"
   ]
  },
  {
   "cell_type": "code",
   "execution_count": 11,
   "metadata": {},
   "outputs": [],
   "source": [
    "import matplotlib.pyplot as plt"
   ]
  },
  {
   "cell_type": "code",
   "execution_count": 12,
   "metadata": {},
   "outputs": [
    {
     "name": "stdout",
     "output_type": "stream",
     "text": [
      "['38', '42', '20', '40', '39']\n",
      "['80', '50', '17', '50', '51']\n"
     ]
    }
   ],
   "source": [
    "str_speeds = \"38 42 20 40 39\"\n",
    "str_armor = \"80 50 17 50 51\"\n",
    "speeds = str_speeds.split(\" \")\n",
    "armors = str_armor.split(\" \")\n",
    "markers = [\"o\", \"v\", \"^\", \"<\", \">\"]\n",
    "print(speeds)\n",
    "print(armors)"
   ]
  },
  {
   "cell_type": "code",
   "execution_count": 13,
   "metadata": {},
   "outputs": [
    {
     "data": {
      "image/png": "[encoded data removed]",
      "text/plain": [
       "<Figure size 432x288 with 1 Axes>"
      ]
     },
     "metadata": {
      "needs_background": "light"
     },
     "output_type": "display_data"
    }
   ],
   "source": [
    "for idx in range(len(speeds)):\n",
    "    x = int(speeds[idx])\n",
    "    y = int(armors[idx])\n",
    "    plt.scatter(x, y, marker=markers[idx])"
   ]
  },
  {
   "cell_type": "code",
   "execution_count": 14,
   "metadata": {},
   "outputs": [
    {
     "data": {
      "text/plain": [
       "'38,42,20,40,39'"
      ]
     },
     "execution_count": 14,
     "metadata": {},
     "output_type": "execute_result"
    }
   ],
   "source": [
    "\",\".join(speeds)"
   ]
  },
  {
   "cell_type": "code",
   "execution_count": 15,
   "metadata": {},
   "outputs": [
    {
     "data": {
      "text/plain": [
       "',38,,42,20,40,39,'"
      ]
     },
     "execution_count": 15,
     "metadata": {},
     "output_type": "execute_result"
    }
   ],
   "source": [
    "str_speeds2 = \" 38  42 20 40 39 \"\n",
    "str_speeds2.replace(\" \", \",\")"
   ]
  },
  {
   "cell_type": "code",
   "execution_count": 16,
   "metadata": {},
   "outputs": [
    {
     "name": "stdout",
     "output_type": "stream",
     "text": [
      "38\n",
      "42\n",
      "20\n",
      "40\n",
      "39\n"
     ]
    }
   ],
   "source": [
    "speeds2 = str_speeds2.split()\n",
    "csep_speeds2 = \"\\n\".join(speeds2)\n",
    "print(csep_speeds2)"
   ]
  },
  {
   "cell_type": "code",
   "execution_count": 17,
   "metadata": {},
   "outputs": [],
   "source": [
    "def func():\n",
    "    global words\n",
    "    words = \"\"\"ゆく河の流れは絶えずして\n",
    "しかももとの水にあらず\"\"\"\n",
    "    print(words)"
   ]
  },
  {
   "cell_type": "code",
   "execution_count": 18,
   "metadata": {},
   "outputs": [
    {
     "name": "stdout",
     "output_type": "stream",
     "text": [
      "ゆく河の流れは絶えずして\n",
      "しかももとの水にあらず\n"
     ]
    }
   ],
   "source": [
    "func()"
   ]
  },
  {
   "cell_type": "code",
   "execution_count": 19,
   "metadata": {},
   "outputs": [],
   "source": [
    "raw = r\"C:\\path\\to\\file\""
   ]
  },
  {
   "cell_type": "code",
   "execution_count": 20,
   "metadata": {},
   "outputs": [
    {
     "name": "stdout",
     "output_type": "stream",
     "text": [
      "ゆく河の流れは絶えずして\n",
      "しかももとの水にあらず\n"
     ]
    }
   ],
   "source": [
    "print(words)"
   ]
  },
  {
   "cell_type": "code",
   "execution_count": 21,
   "metadata": {},
   "outputs": [
    {
     "name": "stdout",
     "output_type": "stream",
     "text": [
      "4\n",
      "流\n"
     ]
    }
   ],
   "source": [
    "print(words.find(\"流れ\", 2, 6))\n",
    "print(words[4])"
   ]
  },
  {
   "cell_type": "code",
   "execution_count": 22,
   "metadata": {},
   "outputs": [
    {
     "data": {
      "text/plain": [
       "'a,i,u,e,o'"
      ]
     },
     "execution_count": 22,
     "metadata": {},
     "output_type": "execute_result"
    }
   ],
   "source": [
    "\",\".join(\"aiueo\")"
   ]
  },
  {
   "cell_type": "code",
   "execution_count": 23,
   "metadata": {},
   "outputs": [
    {
     "data": {
      "text/plain": [
       "'河の流れは絶えずして\\nしかももとの水にあらず'"
      ]
     },
     "execution_count": 23,
     "metadata": {},
     "output_type": "execute_result"
    }
   ],
   "source": [
    "words.strip(\"ゆく\")"
   ]
  },
  {
   "cell_type": "code",
   "execution_count": null,
   "metadata": {},
   "outputs": [],
   "source": []
  },
  {
   "cell_type": "code",
   "execution_count": null,
   "metadata": {},
   "outputs": [],
   "source": []
  }
 ],
 "metadata": {
  "kernelspec": {
   "display_name": "Python 3",
   "language": "python",
   "name": "python3"
  },
  "language_info": {
   "codemirror_mode": {
    "name": "ipython",
    "version": 3
   },
   "file_extension": ".py",
   "mimetype": "text/x-python",
   "name": "python",
   "nbconvert_exporter": "python",
   "pygments_lexer": "ipython3",
   "version": "3.8.5"
  }
 },
 "nbformat": 4,
 "nbformat_minor": 4
}
